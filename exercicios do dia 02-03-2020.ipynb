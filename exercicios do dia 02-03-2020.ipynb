{
 "cells": [
  {
   "cell_type": "code",
   "execution_count": 3,
   "metadata": {},
   "outputs": [
    {
     "name": "stdout",
     "output_type": "stream",
     "text": [
      "<class 'float'>\n",
      "<class 'int'>\n",
      "<class 'list'>\n",
      "<class 'tuple'>\n",
      "<class 'set'>\n",
      "<class 'dict'>\n",
      "<class 'bool'>\n",
      "<class 'str'>\n",
      "<class 'float'>\n"
     ]
    }
   ],
   "source": [
    "# verificação do tipo de dado da variave\n",
    "x = 3.0\n",
    "print(type(x))\n",
    "x = 3\n",
    "print(type(x))\n",
    "x = [3, 8.2, 4]\n",
    "print(type(x))\n",
    "x = (3, 8.2, 4)\n",
    "print(type(x))\n",
    "x = {2.1, 'abc', 1234}\n",
    "print(type(x))\n",
    "x = {'a':2.1, 2:30}\n",
    "print(type(x))\n",
    "x = 3 < 5 and 2-5 < 0\n",
    "print(type(x))\n",
    "x = 'Python'\n",
    "print(type(x))\n",
    "x = 3.0000001\n",
    "print(type(x))"
   ]
  },
  {
   "cell_type": "code",
   "execution_count": 6,
   "metadata": {},
   "outputs": [
    {
     "name": "stdout",
     "output_type": "stream",
     "text": [
      "insira um valor: 4\n",
      "insira um valor: 2\n",
      "o resto da divsão de 4  e 2 é igual a 0\n"
     ]
    }
   ],
   "source": [
    "# codigo que recebe dois números inteiros, calcula o \n",
    "# resto da divisão entre eles e exibe o resultado\n",
    "n1 = int(input('insira um valor: '))\n",
    "n2 = int(input('insira um valor: '))\n",
    "res = n1%n2\n",
    "print(f'o resto da divsão de {n1}  e {n2} é igual a {res}')"
   ]
  },
  {
   "cell_type": "code",
   "execution_count": 9,
   "metadata": {},
   "outputs": [
    {
     "name": "stdout",
     "output_type": "stream",
     "text": [
      "Insira a distancia a ser percorrida: 10\n",
      "Insira o total de litros de combustivel: 10\n",
      "o consumo medio é de 1.0\n"
     ]
    }
   ],
   "source": [
    "# codigo que da o consumo medio de litros por Kilometros\n",
    "distancia = float(input('Insira a distancia a ser percorrida: '))\n",
    "litrosTot = float(input('Insira o total de litros de combustivel: '))\n",
    "consumoMedio = distancia/litrosTot\n",
    "print(f'o consumo medio é de {consumoMedio}')"
   ]
  },
  {
   "cell_type": "code",
   "execution_count": 10,
   "metadata": {},
   "outputs": [
    {
     "name": "stdout",
     "output_type": "stream",
     "text": [
      "Insira a temperatura: 30\n",
      "86.0 Fahrenheit\n"
     ]
    }
   ],
   "source": [
    "# conversor de temparatura em graus Celsius para Fahrenheit\n",
    "celsius = float(input('Insira a temperatura: '))\n",
    "f = (9 * celsius + 160)/5\n",
    "print(f'{f} Fahrenheit')"
   ]
  },
  {
   "cell_type": "code",
   "execution_count": 12,
   "metadata": {},
   "outputs": [
    {
     "name": "stdout",
     "output_type": "stream",
     "text": [
      "Insira um valor: 2\n",
      "Insira um valor: 2\n",
      "resultado: 16\n"
     ]
    }
   ],
   "source": [
    "# algoritimos que recebe dois valores inteiros e exibe\n",
    "# o resultado do quadrado da soma dos valores\n",
    "n1 = int(input('Insira um valor: '))\n",
    "n2 = int(input('Insira um valor: '))\n",
    "res = pow(n1+n2, 2)\n",
    "print(f'resultado: {res}')"
   ]
  },
  {
   "cell_type": "code",
   "execution_count": 13,
   "metadata": {},
   "outputs": [
    {
     "name": "stdout",
     "output_type": "stream",
     "text": [
      "Insira um valor: 9\n",
      "Insira um valor: 5\n",
      "resultado: 106\n"
     ]
    }
   ],
   "source": [
    "# algoritimo que recebe dois valores inteiros e exibe\n",
    "# a soma dos quadrados dos valores\n",
    "n1 = int(input('Insira um valor: '))\n",
    "n2 = int(input('Insira um valor: '))\n",
    "res = pow(n1, 2) + pow(n2, 2)\n",
    "print(f'resultado: {res}')"
   ]
  },
  {
   "cell_type": "code",
   "execution_count": null,
   "metadata": {},
   "outputs": [],
   "source": []
  }
 ],
 "metadata": {
  "kernelspec": {
   "display_name": "Python 3",
   "language": "python",
   "name": "python3"
  },
  "language_info": {
   "codemirror_mode": {
    "name": "ipython",
    "version": 3
   },
   "file_extension": ".py",
   "mimetype": "text/x-python",
   "name": "python",
   "nbconvert_exporter": "python",
   "pygments_lexer": "ipython3",
   "version": "3.7.3"
  }
 },
 "nbformat": 4,
 "nbformat_minor": 2
}
