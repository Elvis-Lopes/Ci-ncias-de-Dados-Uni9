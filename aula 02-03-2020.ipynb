{
 "cells": [
  {
   "cell_type": "code",
   "execution_count": 1,
   "metadata": {},
   "outputs": [
    {
     "name": "stdout",
     "output_type": "stream",
     "text": [
      "hello world!\n"
     ]
    }
   ],
   "source": [
    "print('hello world!')"
   ]
  },
  {
   "cell_type": "code",
   "execution_count": 2,
   "metadata": {},
   "outputs": [
    {
     "name": "stdout",
     "output_type": "stream",
     "text": [
      "Hello World!\n",
      "True\n",
      "-5\n"
     ]
    },
    {
     "ename": "NameError",
     "evalue": "name 'abacate' is not defined",
     "output_type": "error",
     "traceback": [
      "\u001b[0;31m---------------------------------------------------------------------------\u001b[0m",
      "\u001b[0;31mNameError\u001b[0m                                 Traceback (most recent call last)",
      "\u001b[0;32m<ipython-input-2-741983fe8686>\u001b[0m in \u001b[0;36m<module>\u001b[0;34m\u001b[0m\n\u001b[1;32m      2\u001b[0m \u001b[0mprint\u001b[0m\u001b[0;34m(\u001b[0m\u001b[0;32mTrue\u001b[0m\u001b[0;34m)\u001b[0m\u001b[0;34m\u001b[0m\u001b[0;34m\u001b[0m\u001b[0m\n\u001b[1;32m      3\u001b[0m \u001b[0mprint\u001b[0m\u001b[0;34m(\u001b[0m\u001b[0;34m-\u001b[0m\u001b[0;36m5\u001b[0m\u001b[0;34m)\u001b[0m\u001b[0;34m\u001b[0m\u001b[0;34m\u001b[0m\u001b[0m\n\u001b[0;32m----> 4\u001b[0;31m \u001b[0mprint\u001b[0m\u001b[0;34m(\u001b[0m\u001b[0mabacate\u001b[0m\u001b[0;34m)\u001b[0m\u001b[0;34m\u001b[0m\u001b[0;34m\u001b[0m\u001b[0m\n\u001b[0m",
      "\u001b[0;31mNameError\u001b[0m: name 'abacate' is not defined"
     ]
    }
   ],
   "source": [
    "print('Hello World!')\n",
    "print(True)\n",
    "print(-5)\n",
    "print(abacate)"
   ]
  },
  {
   "cell_type": "code",
   "execution_count": 3,
   "metadata": {},
   "outputs": [
    {
     "name": "stdout",
     "output_type": "stream",
     "text": [
      "<class 'int'>\n",
      "<class 'float'>\n",
      "<class 'bool'>\n",
      "<class 'str'>\n",
      "<class 'list'>\n",
      "<class 'set'>\n",
      "<class 'tuple'>\n",
      "<class 'dict'>\n"
     ]
    }
   ],
   "source": [
    "print(type(1))\n",
    "print(type(2.3))\n",
    "print(type(False))\n",
    "print(type('Olá mundo'))\n",
    "print(type([1, 2.0, 3, 'morango']))\n",
    "print(type({1, 2.0, 3, 'morango'}))\n",
    "print(type((1, 2.0, 3, 'morango')))\n",
    "print(type({'nome':'Ivo', 'idade': 40}))"
   ]
  },
  {
   "cell_type": "code",
   "execution_count": 4,
   "metadata": {},
   "outputs": [
    {
     "name": "stdout",
     "output_type": "stream",
     "text": [
      "<class 'str'>\n",
      "9.99\n",
      "Abacate\n",
      "O preço do quilo de Abacate custa aproximadamente R$9.99\n"
     ]
    }
   ],
   "source": [
    "x =  '9.99'\n",
    "print(type(x))\n",
    "print(x)\n",
    "y = 'Abacate'\n",
    "print(y)\n",
    "print(f'O preço do quilo de {y} custa aproximadamente R${x}')"
   ]
  },
  {
   "cell_type": "code",
   "execution_count": 5,
   "metadata": {},
   "outputs": [
    {
     "name": "stdout",
     "output_type": "stream",
     "text": [
      "Informe alguns dados sobre você\n",
      "Insira o seu nome: Elvis\n",
      "Insira a sua idade: 23\n",
      "Elvis você tem 23 anos\n",
      "<class 'str'>\n",
      "<class 'int'>\n"
     ]
    }
   ],
   "source": [
    "print('Informe alguns dados sobre você')\n",
    "nome = input('Insira o seu nome: ')\n",
    "idade = int(input('Insira a sua idade: '))\n",
    "print(f'{nome} você tem {idade} anos')\n",
    "print(type(nome))\n",
    "print(type(idade))"
   ]
  },
  {
   "cell_type": "code",
   "execution_count": 6,
   "metadata": {},
   "outputs": [
    {
     "name": "stdout",
     "output_type": "stream",
     "text": [
      "4.7\n",
      "0.8\n",
      "8\n",
      "1.5\n",
      "1.0\n",
      "1\n",
      "-5\n",
      "16\n"
     ]
    }
   ],
   "source": [
    "print(2 + 2.7)\n",
    "print(1 - 0.2)\n",
    "print(4 * 2)\n",
    "print(3 / 2)\n",
    "print(3 // 2.0)\n",
    "print(3 % 2)\n",
    "print(-(3 + 2))\n",
    "print(4 ** 2)"
   ]
  },
  {
   "cell_type": "code",
   "execution_count": 7,
   "metadata": {},
   "outputs": [
    {
     "name": "stdout",
     "output_type": "stream",
     "text": [
      "7\n",
      "9.0\n",
      "2\n",
      "2.4\n",
      "0\n"
     ]
    }
   ],
   "source": [
    "print(int(7.8))\n",
    "print(float(9))\n",
    "print(abs(-2))\n",
    "print(abs(2.4))\n",
    "print(abs(0))"
   ]
  },
  {
   "cell_type": "code",
   "execution_count": 8,
   "metadata": {},
   "outputs": [
    {
     "name": "stdout",
     "output_type": "stream",
     "text": [
      "valor de A: 5\n",
      "valor de B: 3\n",
      "resultado: 1.0\n"
     ]
    }
   ],
   "source": [
    "a = float(input('valor de A: '))\n",
    "b = float(input('valor de B: '))\n",
    "div = a//b\n",
    "print(f'resultado: {div}')"
   ]
  },
  {
   "cell_type": "code",
   "execution_count": 9,
   "metadata": {},
   "outputs": [
    {
     "name": "stdout",
     "output_type": "stream",
     "text": [
      "Insira o valor do raio: 30\n",
      "Área = 2826.0\n"
     ]
    }
   ],
   "source": [
    "r = float(input('Insira o valor do raio: '))\n",
    "a = 3.14 * r ** 2\n",
    "print(f'Área = {a}')"
   ]
  },
  {
   "cell_type": "code",
   "execution_count": 12,
   "metadata": {},
   "outputs": [
    {
     "name": "stdout",
     "output_type": "stream",
     "text": [
      "False\n",
      "False\n",
      "False\n",
      "True\n",
      "False\n",
      "True\n",
      "True\n"
     ]
    }
   ],
   "source": [
    "print(1+5 == 2*6)\n",
    "print(4 != 8/2)\n",
    "print(-1 < -2)\n",
    "print(2**3 <= 3**2)\n",
    "print('a' == 'A')\n",
    "print('b' < 'c')\n",
    "print('Ana' > 'Amélia')"
   ]
  },
  {
   "cell_type": "code",
   "execution_count": null,
   "metadata": {},
   "outputs": [],
   "source": []
  }
 ],
 "metadata": {
  "kernelspec": {
   "display_name": "Python 3",
   "language": "python",
   "name": "python3"
  },
  "language_info": {
   "codemirror_mode": {
    "name": "ipython",
    "version": 3
   },
   "file_extension": ".py",
   "mimetype": "text/x-python",
   "name": "python",
   "nbconvert_exporter": "python",
   "pygments_lexer": "ipython3",
   "version": "3.7.3"
  }
 },
 "nbformat": 4,
 "nbformat_minor": 2
}
